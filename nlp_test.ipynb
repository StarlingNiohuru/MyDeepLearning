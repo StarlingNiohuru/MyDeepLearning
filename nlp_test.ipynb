{
 "cells": [
  {
   "cell_type": "code",
   "execution_count": null,
   "metadata": {},
   "outputs": [
    {
     "name": "stderr",
     "output_type": "stream",
     "text": [
      "Using TensorFlow backend.\n"
     ]
    }
   ],
   "source": [
    "import os, sys\n",
    "from numpy import asarray, zeros, arange, random\n",
    "from keras.preprocessing.text import one_hot, Tokenizer\n",
    "from keras.preprocessing.sequence import pad_sequences\n",
    "from keras.models import Sequential\n",
    "from keras.layers import Dense, LSTM, Flatten, Activation\n",
    "from keras.layers.embeddings import Embedding\n",
    "from keras.utils.np_utils import to_categorical\n"
   ]
  },
  {
   "cell_type": "code",
   "execution_count": 2,
   "metadata": {},
   "outputs": [],
   "source": [
    "TEXT_DATA_DIR = 'D://20_newsgroup/'\n",
    "GLOVE_DIR = 'D://glove.6B/glove.6B.100d.txt'\n",
    "MAX_SEQUENCE_LENGTH = 1000\n",
    "MAX_NB_WORDS = 20000\n",
    "EMBEDDING_DIM = 100\n",
    "VALIDATION_SPLIT = 0.2\n",
    "BATCH_SIZE = 32\n"
   ]
  },
  {
   "cell_type": "code",
   "execution_count": 3,
   "metadata": {},
   "outputs": [
    {
     "name": "stdout",
     "output_type": "stream",
     "text": [
      "Found 19997 texts.\n"
     ]
    }
   ],
   "source": [
    "#load tests\n",
    "texts = []  # list of text samples\n",
    "labels_index = {}  # dictionary mapping label name to numeric id\n",
    "labels = []  # list of label ids\n",
    "for name in sorted(os.listdir(TEXT_DATA_DIR)):\n",
    "    path = os.path.join(TEXT_DATA_DIR, name)\n",
    "    if os.path.isdir(path):\n",
    "        label_id = len(labels_index)\n",
    "        labels_index[name] = label_id\n",
    "        for fname in sorted(os.listdir(path)):\n",
    "            if fname.isdigit():\n",
    "                fpath = os.path.join(path, fname)\n",
    "                if sys.version_info < (3,):\n",
    "                    f = open(fpath)\n",
    "                else:\n",
    "                    f = open(fpath, encoding='latin-1')\n",
    "                texts.append(f.read())\n",
    "                f.close()\n",
    "                labels.append(label_id)\n",
    "print('Found %s texts.' % len(texts))\n"
   ]
  },
  {
   "cell_type": "code",
   "execution_count": 4,
   "metadata": {},
   "outputs": [
    {
     "name": "stdout",
     "output_type": "stream",
     "text": [
      "Loaded 400000 word vectors.\n"
     ]
    }
   ],
   "source": [
    "#load words embedding vector dict\n",
    "embeddings_index = dict()\n",
    "f = open(GLOVE_DIR, 'r', encoding='UTF-8')\n",
    "for line in f:\n",
    "    values = line.split()\n",
    "    word = values[0]\n",
    "    coefs = asarray(values[1:], dtype='float32')\n",
    "    embeddings_index[word] = coefs\n",
    "f.close()\n",
    "print('Loaded %s word vectors.' % len(embeddings_index))\n"
   ]
  },
  {
   "cell_type": "code",
   "execution_count": 5,
   "metadata": {},
   "outputs": [
    {
     "name": "stdout",
     "output_type": "stream",
     "text": [
      "Found 214873 unique tokens.\n"
     ]
    }
   ],
   "source": [
    "tokenizer = Tokenizer()\n",
    "tokenizer.fit_on_texts(texts)\n",
    "sequences = tokenizer.texts_to_sequences(texts)\n",
    "word_index = tokenizer.word_index\n",
    "print('Found %s unique tokens.' % len(word_index))\n"
   ]
  },
  {
   "cell_type": "code",
   "execution_count": 6,
   "metadata": {},
   "outputs": [
    {
     "name": "stdout",
     "output_type": "stream",
     "text": [
      "Shape of data tensor: (19997, 1000)\n",
      "Shape of label tensor: (19997, 20)\n"
     ]
    }
   ],
   "source": [
    "data = pad_sequences(sequences, maxlen=MAX_SEQUENCE_LENGTH)\n",
    "labels = to_categorical(asarray(labels))\n",
    "print('Shape of data tensor:', data.shape)\n",
    "print('Shape of label tensor:', labels.shape)\n"
   ]
  },
  {
   "cell_type": "code",
   "execution_count": 7,
   "metadata": {},
   "outputs": [
    {
     "name": "stdout",
     "output_type": "stream",
     "text": [
      "(15998, 1000)\n",
      "(15998, 20)\n",
      "(3999, 1000)\n",
      "(3999, 20)\n"
     ]
    }
   ],
   "source": [
    "# split the data into training and validation set\n",
    "indices = arange(data.shape[0])\n",
    "random.shuffle(indices)\n",
    "data = data[indices]\n",
    "labels = asarray(labels)[indices]\n",
    "nb_validation_samples = int(VALIDATION_SPLIT * data.shape[0])\n",
    "\n",
    "x_train = data[:-nb_validation_samples]\n",
    "y_train = labels[:-nb_validation_samples]\n",
    "x_val = data[-nb_validation_samples:]\n",
    "y_val = labels[-nb_validation_samples:]\n",
    "print(x_train.shape)\n",
    "print(y_train.shape)\n",
    "print(x_val.shape)\n",
    "print(y_val.shape)\n"
   ]
  },
  {
   "cell_type": "code",
   "execution_count": 8,
   "metadata": {},
   "outputs": [
    {
     "name": "stdout",
     "output_type": "stream",
     "text": [
      "(214874, 100)\n"
     ]
    }
   ],
   "source": [
    "#embedding matrix\n",
    "#nb_words = max(MAX_NB_WORDS, len(word_index))\n",
    "nb_words = len(word_index)\n",
    "embedding_matrix = zeros((nb_words + 1, EMBEDDING_DIM))\n",
    "for word, i in word_index.items():\n",
    "    #if i > MAX_NB_WORDS:\n",
    "    #    continue\n",
    "    embedding_vector = embeddings_index.get(word)\n",
    "    if embedding_vector is not None:\n",
    "        # words not found in embedding index will be all-zeros.\n",
    "        embedding_matrix[i] = embedding_vector\n",
    "print(embedding_matrix.shape)\n"
   ]
  },
  {
   "cell_type": "code",
   "execution_count": 9,
   "metadata": {},
   "outputs": [
    {
     "name": "stdout",
     "output_type": "stream",
     "text": [
      "_________________________________________________________________\n",
      "Layer (type)                 Output Shape              Param #   \n",
      "=================================================================\n",
      "embedding_1 (Embedding)      (None, 1000, 100)         21487400  \n",
      "_________________________________________________________________\n",
      "lstm_1 (LSTM)                (None, 100)               80400     \n",
      "_________________________________________________________________\n",
      "dense_1 (Dense)              (None, 20)                2020      \n",
      "=================================================================\n",
      "Total params: 21,569,820\n",
      "Trainable params: 82,420\n",
      "Non-trainable params: 21,487,400\n",
      "_________________________________________________________________\n",
      "None\n",
      "(19997, 1000)\n"
     ]
    }
   ],
   "source": [
    "#build model\n",
    "model = Sequential()\n",
    "model.add(Embedding(nb_words + 1, EMBEDDING_DIM, weights=[embedding_matrix], input_length=MAX_SEQUENCE_LENGTH,\n",
    "                    trainable=False))\n",
    "model.add(LSTM(100, dropout=0.2, recurrent_dropout=0.2))\n",
    "model.add(Dense(len(labels_index), activation='softmax'))\n",
    "#model.compile(optimizer='adam', loss='binary_crossentropy', metrics=['acc'])\n",
    "model.compile(optimizer='adam', loss='categorical_crossentropy', metrics=['acc'])\n",
    "print(model.summary())\n",
    "print(data.shape)\n"
   ]
  },
  {
   "cell_type": "code",
   "execution_count": 10,
   "metadata": {},
   "outputs": [
    {
     "name": "stdout",
     "output_type": "stream",
     "text": [
      "Train on 15998 samples, validate on 3999 samples\n",
      "Epoch 1/15\n",
      "15998/15998 [==============================] - 370s 23ms/step - loss: 2.6036 - acc: 0.1692 - val_loss: 2.0816 - val_acc: 0.3021\n",
      "Epoch 2/15\n",
      "15998/15998 [==============================] - 368s 23ms/step - loss: 1.9007 - acc: 0.3495 - val_loss: 1.4688 - val_acc: 0.4819\n",
      "Epoch 3/15\n",
      "15998/15998 [==============================] - 374s 23ms/step - loss: 1.4007 - acc: 0.5177 - val_loss: 1.0773 - val_acc: 0.6389\n",
      "Epoch 4/15\n",
      "15998/15998 [==============================] - 399s 25ms/step - loss: 0.8532 - acc: 0.7234 - val_loss: 0.5017 - val_acc: 0.8407\n",
      "Epoch 5/15\n",
      "15998/15998 [==============================] - 386s 24ms/step - loss: 0.4241 - acc: 0.8801 - val_loss: 0.2152 - val_acc: 0.9400\n",
      "Epoch 6/15\n",
      "15998/15998 [==============================] - 374s 23ms/step - loss: 0.2500 - acc: 0.9325 - val_loss: 0.1849 - val_acc: 0.9447\n",
      "Epoch 7/15\n",
      "15998/15998 [==============================] - 385s 24ms/step - loss: 0.1885 - acc: 0.9449 - val_loss: 0.1489 - val_acc: 0.9440\n",
      "Epoch 8/15\n",
      "15998/15998 [==============================] - 379s 24ms/step - loss: 0.1466 - acc: 0.9537 - val_loss: 0.1334 - val_acc: 0.9470\n",
      "Epoch 9/15\n",
      "15998/15998 [==============================] - 375s 23ms/step - loss: 0.1369 - acc: 0.9541 - val_loss: 0.1356 - val_acc: 0.9462\n",
      "Epoch 10/15\n",
      "15998/15998 [==============================] - 375s 23ms/step - loss: 0.1250 - acc: 0.9558 - val_loss: 0.1253 - val_acc: 0.9505\n",
      "Epoch 11/15\n",
      "15998/15998 [==============================] - 388s 24ms/step - loss: 0.1221 - acc: 0.9555 - val_loss: 0.1231 - val_acc: 0.9510\n",
      "Epoch 12/15\n",
      "15998/15998 [==============================] - 376s 24ms/step - loss: 0.1142 - acc: 0.9572 - val_loss: 0.1253 - val_acc: 0.9482\n",
      "Epoch 13/15\n",
      "15998/15998 [==============================] - 390s 24ms/step - loss: 0.1034 - acc: 0.9598 - val_loss: 0.1212 - val_acc: 0.9492\n",
      "Epoch 14/15\n",
      "15998/15998 [==============================] - 390s 24ms/step - loss: 0.0951 - acc: 0.9606 - val_loss: 0.1146 - val_acc: 0.9512\n",
      "Epoch 15/15\n",
      "15998/15998 [==============================] - 386s 24ms/step - loss: 0.0906 - acc: 0.9634 - val_loss: 0.1155 - val_acc: 0.9495\n"
     ]
    },
    {
     "data": {
      "text/plain": [
       "<keras.callbacks.History at 0x1d9f7be0>"
      ]
     },
     "execution_count": 10,
     "metadata": {},
     "output_type": "execute_result"
    }
   ],
   "source": [
    "model.fit(x_train, y_train, batch_size=BATCH_SIZE, epochs=15,\n",
    "          validation_data=(x_val, y_val))\n"
   ]
  }
 ],
 "metadata": {
  "kernelspec": {
   "display_name": "Python 3",
   "language": "python",
   "name": "python3"
  },
  "language_info": {
   "codemirror_mode": {
    "name": "ipython",
    "version": 3
   },
   "file_extension": ".py",
   "mimetype": "text/x-python",
   "name": "python",
   "nbconvert_exporter": "python",
   "pygments_lexer": "ipython3",
   "version": "3.6.4"
  }
 },
 "nbformat": 4,
 "nbformat_minor": 2
}
